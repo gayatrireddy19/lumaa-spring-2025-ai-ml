{
 "cells": [
  {
   "cell_type": "code",
   "execution_count": 4,
   "id": "5c53d773-62e1-4488-96ec-426900d46ec5",
   "metadata": {},
   "outputs": [],
   "source": [
    "# importing libraries & Reading the dataset\n",
    "\n",
    "import pandas as pd\n",
    "import textwrap\n",
    "import re\n",
    "from sklearn.feature_extraction.text import TfidfVectorizer\n",
    "from sklearn.metrics.pairwise import cosine_similarity\n",
    "\n",
    "def load_data(file_path):\n",
    "    df = pd.read_csv('imdb_top_1000.csv', encoding='latin1')\n",
    "    \n",
    "    return df"
   ]
  },
  {
   "cell_type": "code",
   "execution_count": 6,
   "id": "0c37dca3-3fac-4900-bbb5-b6179f6f5d65",
   "metadata": {},
   "outputs": [],
   "source": [
    "# pre-processing the dataset\n",
    "\n",
    "def preprocess_data(df):\n",
    "    \n",
    "    # handling missing values\n",
    "    df['Overview'] = df['Overview'].fillna(\"\")\n",
    "    df['Genre'] = df['Genre'].fillna(\"\")\n",
    "    \n",
    "    # combining overview and genre text data to effectively match user inputs\n",
    "    df['combined_features'] = df['Overview'] + \" \" + (df['Genre'] + \" \") * 3 \n",
    "    \n",
    "    return df\n",
    "\n",
    "# wrapping text to ensure better readbility in the output\n",
    "\n",
    "def wrap_text(text, width=50):\n",
    "    \"\"\"Wrap text for better readability in the table output.\"\"\"\n",
    "    return \"\\n\".join(textwrap.wrap(text, width))"
   ]
  },
  {
   "cell_type": "code",
   "execution_count": 8,
   "id": "42e57127-d39e-41a5-822e-89732ab03729",
   "metadata": {},
   "outputs": [],
   "source": [
    "# extracting genre from user input by matching it with the dataset genre\n",
    "\n",
    "def extract_genre_from_query(query, df):\n",
    "    query = query.lower()\n",
    "\n",
    "    # generating unique genres from dataset\n",
    "    all_genres = set(genre.strip().lower() for sublist in df['Genre'].dropna().str.split(\",\") for genre in sublist)\n",
    "\n",
    "    detected_genre = None\n",
    "    for genre in all_genres:\n",
    "        if re.search(rf'\\b{genre}\\b', query): \n",
    "            detected_genre = genre\n",
    "            break\n",
    "\n",
    "    return detected_genre"
   ]
  },
  {
   "cell_type": "code",
   "execution_count": 10,
   "id": "135ee019-9692-4405-9d91-0c9b9e82ff76",
   "metadata": {},
   "outputs": [],
   "source": [
    "# building an recommendation engine\n",
    "\n",
    "# computing cosine similarity between the user input and all combined features\n",
    "# will return the top 3-5 movies sorted by IMDb rating\n",
    "\n",
    "def get_recommendations(query, vectorizer, tfidf_matrix, df, top_n=5):\n",
    "    \n",
    "    query_vec = vectorizer.transform([query])\n",
    "    cosine_sim = cosine_similarity(query_vec, tfidf_matrix).flatten()\n",
    "    \n",
    "    # getting top N similar items\n",
    "    similar_indices = cosine_sim.argsort()[-top_n*3:][::-1] \n",
    "    recommendations = df.iloc[similar_indices].copy()\n",
    "    recommendations['similarity'] = cosine_sim[similar_indices]\n",
    "\n",
    "    # rounding similarity scores\n",
    "    recommendations['similarity'] = recommendations['similarity'].round(4)\n",
    "    \n",
    "    # detecting genre from user input\n",
    "    detected_genre = extract_genre_from_query(query, df)\n",
    "    \n",
    "    if detected_genre:\n",
    "        recommendations = recommendations[recommendations['Genre'].str.lower().str.contains(detected_genre, na=False)]\n",
    "    \n",
    "    # sorting recommendations by IMDb rating\n",
    "    recommendations = recommendations.sort_values(by='IMDB_Rating', ascending=False)\n",
    "\n",
    "    # limit back to top N\n",
    "    recommendations = recommendations.head(top_n)\n",
    "    \n",
    "    # applying text wrapping for better readability\n",
    "    recommendations['Series_Title'] = recommendations['Series_Title'].apply(lambda x: wrap_text(x, width=25))\n",
    "    recommendations['Genre'] = recommendations['Genre'].apply(lambda x: wrap_text(x, width=30))\n",
    "    recommendations['Overview'] = recommendations['Overview'].apply(lambda x: wrap_text(x, width=50))\n",
    "\n",
    "    return recommendations[['Series_Title', 'Genre', 'Overview', 'IMDB_Rating', 'similarity']]"
   ]
  },
  {
   "cell_type": "code",
   "execution_count": 14,
   "id": "49a416aa-a42d-4b30-829b-37f0316ff8e7",
   "metadata": {},
   "outputs": [
    {
     "name": "stdin",
     "output_type": "stream",
     "text": [
      "\n",
      "Enter your movie preferences:  I want to watch Sci-Fi movies\n"
     ]
    },
    {
     "name": "stdout",
     "output_type": "stream",
     "text": [
      "\n",
      "Top Recommendations:\n",
      "\n",
      "| Series_Title            | Genre                    | Overview                                           |   IMDB_Rating |   similarity |\n",
      "|:------------------------|:-------------------------|:---------------------------------------------------|--------------:|-------------:|\n",
      "| Interstellar            | Adventure, Drama, Sci-Fi | A team of explorers travel through a wormhole in   |           8.6 |       0.2434 |\n",
      "|                         |                          | space in an attempt to ensure humanity's survival. |               |              |\n",
      "| Eternal Sunshine of the | Drama, Romance, Sci-Fi   | When their relationship turns sour, a couple       |           8.3 |       0.2355 |\n",
      "| Spotless Mind           |                          | undergoes a medical procedure to have each other   |               |              |\n",
      "|                         |                          | erased from their memories.                        |               |              |\n",
      "| A Clockwork Orange      | Crime, Drama, Sci-Fi     | In the future, a sadistic gang leader is           |           8.3 |       0.2292 |\n",
      "|                         |                          | imprisoned and volunteers for a conduct-aversion   |               |              |\n",
      "|                         |                          | experiment, but it doesn't go as planned.          |               |              |\n",
      "| Stalker                 | Drama, Sci-Fi            | A guide leads two men through an area known as the |           8.2 |       0.2556 |\n",
      "|                         |                          | Zone to find a room that grants wishes.            |               |              |\n",
      "| Solaris                 | Drama, Mystery, Sci-Fi   | A psychologist is sent to a station orbiting a     |           8.1 |       0.231  |\n",
      "|                         |                          | distant planet in order to discover what has       |               |              |\n",
      "|                         |                          | caused the crew to go insane.                      |               |              |\n"
     ]
    }
   ],
   "source": [
    "def main():\n",
    "    file_path = 'imdb_top_1000.csv' \n",
    "    \n",
    "    # loading and preprocessing the dataset\n",
    "    df = load_data(file_path)\n",
    "    df = preprocess_data(df)\n",
    "    \n",
    "    # building the TF-IDF matrix using the combined features (Overview + Genre)\n",
    "    vectorizer = TfidfVectorizer(stop_words='english')\n",
    "    tfidf_matrix = vectorizer.fit_transform(df['combined_features'])\n",
    "\n",
    "    # prompting user for input\n",
    "    user_query = input(\"\\nEnter your movie preferences: \")\n",
    "\n",
    "    # generating recommendations\n",
    "    recommendations = get_recommendations(user_query, vectorizer, tfidf_matrix, df, top_n=5)\n",
    "\n",
    "    # displaying recommendations in a formatted table\n",
    "    if recommendations.empty:\n",
    "        print(\"\\nNo matching movies found. Try refining your query.\")\n",
    "    else:\n",
    "        print(\"\\nTop Recommendations:\\n\")\n",
    "        print(recommendations.to_markdown(index=False))  \n",
    "\n",
    "if __name__ == \"__main__\":\n",
    "    main()"
   ]
  },
  {
   "cell_type": "code",
   "execution_count": null,
   "id": "5b73eadb-1d0e-47fe-be05-c8b37873edf6",
   "metadata": {},
   "outputs": [],
   "source": []
  }
 ],
 "metadata": {
  "kernelspec": {
   "display_name": "Python 3 (ipykernel)",
   "language": "python",
   "name": "python3"
  },
  "language_info": {
   "codemirror_mode": {
    "name": "ipython",
    "version": 3
   },
   "file_extension": ".py",
   "mimetype": "text/x-python",
   "name": "python",
   "nbconvert_exporter": "python",
   "pygments_lexer": "ipython3",
   "version": "3.12.2"
  }
 },
 "nbformat": 4,
 "nbformat_minor": 5
}
